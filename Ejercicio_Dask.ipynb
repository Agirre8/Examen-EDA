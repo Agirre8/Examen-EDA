{
 "cells": [
  {
   "cell_type": "code",
   "execution_count": 24,
   "metadata": {},
   "outputs": [],
   "source": [
    "#El ejercicio final pero solo con una muestra de 10000 filas para qu no tarde un tiempo excesivo en ejecutar todo\n",
    "import pandas as pd\n",
    "import seaborn as sns\n",
    "import matplotlib.pyplot as plt \n",
    "import numpy as np \n",
    "from sklearn.tree import DecisionTreeRegressor\n"
   ]
  },
  {
   "cell_type": "code",
   "execution_count": 25,
   "metadata": {},
   "outputs": [],
   "source": [
    "import pandas as pd\n",
    "\n",
    "# Cargar las primeras 10000 líneas del archivo\n",
    "\n",
    "df = pd.read_csv(\"Datos/covtype.data\", nrows=500000)\n",
    "df.to_csv(\"Datos/covtypeI.data\", index=False)"
   ]
  },
  {
   "cell_type": "code",
   "execution_count": 26,
   "metadata": {},
   "outputs": [],
   "source": [
    "datos = pd.read_csv(\"Datos/covtypeI.data\")"
   ]
  },
  {
   "cell_type": "code",
   "execution_count": 27,
   "metadata": {},
   "outputs": [],
   "source": [
    "columnas_Wilderness_Area = [\"Wilderness_Area\" + str(i) for i in range(1, 5)]\n",
    "columnas_Soil_Type = [\"Soil_Type\" + str(i) for i in range(1, 41)]\n",
    "columnas_restantes = [\"Elevation\", \"Aspect\", \"Slope\", \"Horizontal_Distance_To_Hydrology\",\n",
    "\"Vertical_Distance_To_Hydrology\", \"Horizontal_Distance_To_Roadways\", \"Hillshade_9am\", \"Hillshade_Noon\",\n",
    "\"Hillshade_3pm\", \"Horizontal_Distance_To_Fire_Points\"]\n",
    "columna_ultima = [\"Cover_Type\"]\n",
    "columnas_final = columnas_restantes + columnas_Wilderness_Area + columnas_Soil_Type + columna_ultima"
   ]
  },
  {
   "cell_type": "code",
   "execution_count": 28,
   "metadata": {},
   "outputs": [],
   "source": [
    "datos.columns = columnas_final"
   ]
  },
  {
   "cell_type": "code",
   "execution_count": 29,
   "metadata": {},
   "outputs": [],
   "source": [
    "#EJERCICIO 1\n",
    "X = datos.drop('Cover_Type', axis=1)\n",
    "y = datos['Cover_Type']"
   ]
  },
  {
   "cell_type": "code",
   "execution_count": 30,
   "metadata": {},
   "outputs": [
    {
     "data": {
      "text/html": [
       "<style>#sk-container-id-3 {color: black;background-color: white;}#sk-container-id-3 pre{padding: 0;}#sk-container-id-3 div.sk-toggleable {background-color: white;}#sk-container-id-3 label.sk-toggleable__label {cursor: pointer;display: block;width: 100%;margin-bottom: 0;padding: 0.3em;box-sizing: border-box;text-align: center;}#sk-container-id-3 label.sk-toggleable__label-arrow:before {content: \"▸\";float: left;margin-right: 0.25em;color: #696969;}#sk-container-id-3 label.sk-toggleable__label-arrow:hover:before {color: black;}#sk-container-id-3 div.sk-estimator:hover label.sk-toggleable__label-arrow:before {color: black;}#sk-container-id-3 div.sk-toggleable__content {max-height: 0;max-width: 0;overflow: hidden;text-align: left;background-color: #f0f8ff;}#sk-container-id-3 div.sk-toggleable__content pre {margin: 0.2em;color: black;border-radius: 0.25em;background-color: #f0f8ff;}#sk-container-id-3 input.sk-toggleable__control:checked~div.sk-toggleable__content {max-height: 200px;max-width: 100%;overflow: auto;}#sk-container-id-3 input.sk-toggleable__control:checked~label.sk-toggleable__label-arrow:before {content: \"▾\";}#sk-container-id-3 div.sk-estimator input.sk-toggleable__control:checked~label.sk-toggleable__label {background-color: #d4ebff;}#sk-container-id-3 div.sk-label input.sk-toggleable__control:checked~label.sk-toggleable__label {background-color: #d4ebff;}#sk-container-id-3 input.sk-hidden--visually {border: 0;clip: rect(1px 1px 1px 1px);clip: rect(1px, 1px, 1px, 1px);height: 1px;margin: -1px;overflow: hidden;padding: 0;position: absolute;width: 1px;}#sk-container-id-3 div.sk-estimator {font-family: monospace;background-color: #f0f8ff;border: 1px dotted black;border-radius: 0.25em;box-sizing: border-box;margin-bottom: 0.5em;}#sk-container-id-3 div.sk-estimator:hover {background-color: #d4ebff;}#sk-container-id-3 div.sk-parallel-item::after {content: \"\";width: 100%;border-bottom: 1px solid gray;flex-grow: 1;}#sk-container-id-3 div.sk-label:hover label.sk-toggleable__label {background-color: #d4ebff;}#sk-container-id-3 div.sk-serial::before {content: \"\";position: absolute;border-left: 1px solid gray;box-sizing: border-box;top: 0;bottom: 0;left: 50%;z-index: 0;}#sk-container-id-3 div.sk-serial {display: flex;flex-direction: column;align-items: center;background-color: white;padding-right: 0.2em;padding-left: 0.2em;position: relative;}#sk-container-id-3 div.sk-item {position: relative;z-index: 1;}#sk-container-id-3 div.sk-parallel {display: flex;align-items: stretch;justify-content: center;background-color: white;position: relative;}#sk-container-id-3 div.sk-item::before, #sk-container-id-3 div.sk-parallel-item::before {content: \"\";position: absolute;border-left: 1px solid gray;box-sizing: border-box;top: 0;bottom: 0;left: 50%;z-index: -1;}#sk-container-id-3 div.sk-parallel-item {display: flex;flex-direction: column;z-index: 1;position: relative;background-color: white;}#sk-container-id-3 div.sk-parallel-item:first-child::after {align-self: flex-end;width: 50%;}#sk-container-id-3 div.sk-parallel-item:last-child::after {align-self: flex-start;width: 50%;}#sk-container-id-3 div.sk-parallel-item:only-child::after {width: 0;}#sk-container-id-3 div.sk-dashed-wrapped {border: 1px dashed gray;margin: 0 0.4em 0.5em 0.4em;box-sizing: border-box;padding-bottom: 0.4em;background-color: white;}#sk-container-id-3 div.sk-label label {font-family: monospace;font-weight: bold;display: inline-block;line-height: 1.2em;}#sk-container-id-3 div.sk-label-container {text-align: center;}#sk-container-id-3 div.sk-container {/* jupyter's `normalize.less` sets `[hidden] { display: none; }` but bootstrap.min.css set `[hidden] { display: none !important; }` so we also need the `!important` here to be able to override the default hidden behavior on the sphinx rendered scikit-learn.org. See: https://github.com/scikit-learn/scikit-learn/issues/21755 */display: inline-block !important;position: relative;}#sk-container-id-3 div.sk-text-repr-fallback {display: none;}</style><div id=\"sk-container-id-3\" class=\"sk-top-container\"><div class=\"sk-text-repr-fallback\"><pre>DecisionTreeRegressor(random_state=100)</pre><b>In a Jupyter environment, please rerun this cell to show the HTML representation or trust the notebook. <br />On GitHub, the HTML representation is unable to render, please try loading this page with nbviewer.org.</b></div><div class=\"sk-container\" hidden><div class=\"sk-item\"><div class=\"sk-estimator sk-toggleable\"><input class=\"sk-toggleable__control sk-hidden--visually\" id=\"sk-estimator-id-3\" type=\"checkbox\" checked><label for=\"sk-estimator-id-3\" class=\"sk-toggleable__label sk-toggleable__label-arrow\">DecisionTreeRegressor</label><div class=\"sk-toggleable__content\"><pre>DecisionTreeRegressor(random_state=100)</pre></div></div></div></div></div>"
      ],
      "text/plain": [
       "DecisionTreeRegressor(random_state=100)"
      ]
     },
     "execution_count": 30,
     "metadata": {},
     "output_type": "execute_result"
    }
   ],
   "source": [
    "#Crear un modelo de árbol de decisión y ajustarlo a los datos:\n",
    "tree_model = DecisionTreeRegressor(random_state=100)\n",
    "tree_model.fit(X, y)"
   ]
  },
  {
   "cell_type": "code",
   "execution_count": 31,
   "metadata": {},
   "outputs": [],
   "source": [
    "#Obtener las importancias de las variables:\n",
    "importances = pd.Series(tree_model.feature_importances_, index=X.columns)"
   ]
  },
  {
   "cell_type": "code",
   "execution_count": 32,
   "metadata": {},
   "outputs": [],
   "source": [
    "#Ordenar las importancias de las variables de mayor a menor:\n",
    "sorted_importances = importances.sort_values(ascending=False)"
   ]
  },
  {
   "cell_type": "code",
   "execution_count": 33,
   "metadata": {},
   "outputs": [],
   "source": [
    "#Calcular la suma acumulada de las importancias y el porcentaje que representa cada variable:\n",
    "cumulative_importances = sorted_importances.cumsum()\n",
    "cumulative_importances_percent = 100*cumulative_importances/cumulative_importances[-1]"
   ]
  },
  {
   "cell_type": "code",
   "execution_count": 34,
   "metadata": {},
   "outputs": [
    {
     "name": "stdout",
     "output_type": "stream",
     "text": [
      "Index(['Wilderness_Area1', 'Elevation', 'Horizontal_Distance_To_Fire_Points',\n",
      "       'Horizontal_Distance_To_Roadways', 'Horizontal_Distance_To_Hydrology',\n",
      "       'Vertical_Distance_To_Hydrology', 'Soil_Type39', 'Hillshade_Noon',\n",
      "       'Hillshade_9am', 'Aspect', 'Hillshade_3pm', 'Slope', 'Cover_Type'],\n",
      "      dtype='object')\n"
     ]
    }
   ],
   "source": [
    "#Seleccionar las variables que aglutinan hasta el 95% de la información requerida:\n",
    "selected_variables = cumulative_importances_percent[cumulative_importances_percent <= 95].index\n",
    "selected_variables = selected_variables.append(pd.Index([\"Cover_Type\"]))\n",
    "\n",
    "print(selected_variables)"
   ]
  },
  {
   "cell_type": "code",
   "execution_count": 35,
   "metadata": {},
   "outputs": [
    {
     "name": "stdout",
     "output_type": "stream",
     "text": [
      "       Wilderness_Area1  Elevation  Horizontal_Distance_To_Fire_Points  \\\n",
      "0                     1       2590                                6225   \n",
      "1                     1       2804                                6121   \n",
      "2                     1       2785                                6211   \n",
      "3                     1       2595                                6172   \n",
      "4                     1       2579                                6031   \n",
      "...                 ...        ...                                 ...   \n",
      "99995                 1       3090                                4268   \n",
      "99996                 1       3083                                4241   \n",
      "99997                 1       3077                                4214   \n",
      "99998                 1       3073                                4187   \n",
      "99999                 1       3067                                4160   \n",
      "\n",
      "       Horizontal_Distance_To_Roadways  Horizontal_Distance_To_Hydrology  \\\n",
      "0                                  390                               212   \n",
      "1                                 3180                               268   \n",
      "2                                 3090                               242   \n",
      "3                                  391                               153   \n",
      "4                                   67                               300   \n",
      "...                                ...                               ...   \n",
      "99995                             3840                               361   \n",
      "99996                             3864                               335   \n",
      "99997                             3889                               309   \n",
      "99998                             3913                               283   \n",
      "99999                             3937                               256   \n",
      "\n",
      "       Vertical_Distance_To_Hydrology  Soil_Type39  Hillshade_Noon  \\\n",
      "0                                  -6            0             235   \n",
      "1                                  65            0             238   \n",
      "2                                 118            0             238   \n",
      "3                                  -1            0             234   \n",
      "4                                 -15            0             237   \n",
      "...                               ...          ...             ...   \n",
      "99995                              40            0             202   \n",
      "99996                              33            0             198   \n",
      "99997                              43            0             205   \n",
      "99998                              52            0             214   \n",
      "99999                              46            0             214   \n",
      "\n",
      "       Hillshade_9am  Aspect  Hillshade_3pm  Slope  Cover_Type  \n",
      "0                220      56            151      2           5  \n",
      "1                234     139            135      9           2  \n",
      "2                238     155            122     18           2  \n",
      "3                220      45            150      2           5  \n",
      "4                230     132            140      6           2  \n",
      "...              ...     ...            ...    ...         ...  \n",
      "99995            225      50            106     16           1  \n",
      "99996            222      45            104     18           1  \n",
      "99997            221      41            116     15           1  \n",
      "99998            225      50            121     12           1  \n",
      "99999            230      61            115     12           1  \n",
      "\n",
      "[100000 rows x 13 columns]\n"
     ]
    }
   ],
   "source": [
    "datos_1 = datos[selected_variables]\n",
    "print(datos_1)"
   ]
  },
  {
   "cell_type": "code",
   "execution_count": 36,
   "metadata": {},
   "outputs": [
    {
     "data": {
      "image/png": "[encoded data removed]",
      "text/plain": [
       "<Figure size 640x480 with 1 Axes>"
      ]
     },
     "metadata": {},
     "output_type": "display_data"
    }
   ],
   "source": [
    "#EJERCICIO2\n",
    "\n",
    "# Generar histograma de todas las variables\n",
    "plt.hist(datos_1.values, bins=50)\n",
    "plt.show()\n"
   ]
  },
  {
   "cell_type": "code",
   "execution_count": 37,
   "metadata": {},
   "outputs": [
    {
     "name": "stderr",
     "output_type": "stream",
     "text": [
      "C:\\Users\\smite\\AppData\\Local\\Temp\\ipykernel_11792\\3532958195.py:5: SettingWithCopyWarning: \n",
      "A value is trying to be set on a copy of a slice from a DataFrame.\n",
      "Try using .loc[row_indexer,col_indexer] = value instead\n",
      "\n",
      "See the caveats in the documentation: https://pandas.pydata.org/pandas-docs/stable/user_guide/indexing.html#returning-a-view-versus-a-copy\n",
      "  datos_1[cols_to_normalize] = (datos_1[cols_to_normalize] - datos_1[cols_to_normalize].min()) / (datos_1[cols_to_normalize].max() - datos_1[cols_to_normalize].min())\n",
      "C:\\Users\\smite\\AppData\\Local\\Temp\\ipykernel_11792\\3532958195.py:8: SettingWithCopyWarning: \n",
      "A value is trying to be set on a copy of a slice from a DataFrame.\n",
      "Try using .loc[row_indexer,col_indexer] = value instead\n",
      "\n",
      "See the caveats in the documentation: https://pandas.pydata.org/pandas-docs/stable/user_guide/indexing.html#returning-a-view-versus-a-copy\n",
      "  datos_1['Cover_Type'] -= 1\n"
     ]
    }
   ],
   "source": [
    "# Obtener las columnas que se van a normalizar\n",
    "cols_to_normalize = datos_1.columns[:-1]\n",
    "\n",
    "# Normalizar los valores de las columnas\n",
    "datos_1[cols_to_normalize] = (datos_1[cols_to_normalize] - datos_1[cols_to_normalize].min()) / (datos_1[cols_to_normalize].max() - datos_1[cols_to_normalize].min())\n",
    "\n",
    "# Restar 1 del valor de la columna 'Cover_Type'\n",
    "datos_1['Cover_Type'] -= 1\n"
   ]
  },
  {
   "cell_type": "code",
   "execution_count": 38,
   "metadata": {},
   "outputs": [],
   "source": [
    "datos_norm = datos_1.copy()"
   ]
  },
  {
   "cell_type": "code",
   "execution_count": 39,
   "metadata": {},
   "outputs": [
    {
     "data": {
      "text/html": [
       "<style>#sk-container-id-4 {color: black;background-color: white;}#sk-container-id-4 pre{padding: 0;}#sk-container-id-4 div.sk-toggleable {background-color: white;}#sk-container-id-4 label.sk-toggleable__label {cursor: pointer;display: block;width: 100%;margin-bottom: 0;padding: 0.3em;box-sizing: border-box;text-align: center;}#sk-container-id-4 label.sk-toggleable__label-arrow:before {content: \"▸\";float: left;margin-right: 0.25em;color: #696969;}#sk-container-id-4 label.sk-toggleable__label-arrow:hover:before {color: black;}#sk-container-id-4 div.sk-estimator:hover label.sk-toggleable__label-arrow:before {color: black;}#sk-container-id-4 div.sk-toggleable__content {max-height: 0;max-width: 0;overflow: hidden;text-align: left;background-color: #f0f8ff;}#sk-container-id-4 div.sk-toggleable__content pre {margin: 0.2em;color: black;border-radius: 0.25em;background-color: #f0f8ff;}#sk-container-id-4 input.sk-toggleable__control:checked~div.sk-toggleable__content {max-height: 200px;max-width: 100%;overflow: auto;}#sk-container-id-4 input.sk-toggleable__control:checked~label.sk-toggleable__label-arrow:before {content: \"▾\";}#sk-container-id-4 div.sk-estimator input.sk-toggleable__control:checked~label.sk-toggleable__label {background-color: #d4ebff;}#sk-container-id-4 div.sk-label input.sk-toggleable__control:checked~label.sk-toggleable__label {background-color: #d4ebff;}#sk-container-id-4 input.sk-hidden--visually {border: 0;clip: rect(1px 1px 1px 1px);clip: rect(1px, 1px, 1px, 1px);height: 1px;margin: -1px;overflow: hidden;padding: 0;position: absolute;width: 1px;}#sk-container-id-4 div.sk-estimator {font-family: monospace;background-color: #f0f8ff;border: 1px dotted black;border-radius: 0.25em;box-sizing: border-box;margin-bottom: 0.5em;}#sk-container-id-4 div.sk-estimator:hover {background-color: #d4ebff;}#sk-container-id-4 div.sk-parallel-item::after {content: \"\";width: 100%;border-bottom: 1px solid gray;flex-grow: 1;}#sk-container-id-4 div.sk-label:hover label.sk-toggleable__label {background-color: #d4ebff;}#sk-container-id-4 div.sk-serial::before {content: \"\";position: absolute;border-left: 1px solid gray;box-sizing: border-box;top: 0;bottom: 0;left: 50%;z-index: 0;}#sk-container-id-4 div.sk-serial {display: flex;flex-direction: column;align-items: center;background-color: white;padding-right: 0.2em;padding-left: 0.2em;position: relative;}#sk-container-id-4 div.sk-item {position: relative;z-index: 1;}#sk-container-id-4 div.sk-parallel {display: flex;align-items: stretch;justify-content: center;background-color: white;position: relative;}#sk-container-id-4 div.sk-item::before, #sk-container-id-4 div.sk-parallel-item::before {content: \"\";position: absolute;border-left: 1px solid gray;box-sizing: border-box;top: 0;bottom: 0;left: 50%;z-index: -1;}#sk-container-id-4 div.sk-parallel-item {display: flex;flex-direction: column;z-index: 1;position: relative;background-color: white;}#sk-container-id-4 div.sk-parallel-item:first-child::after {align-self: flex-end;width: 50%;}#sk-container-id-4 div.sk-parallel-item:last-child::after {align-self: flex-start;width: 50%;}#sk-container-id-4 div.sk-parallel-item:only-child::after {width: 0;}#sk-container-id-4 div.sk-dashed-wrapped {border: 1px dashed gray;margin: 0 0.4em 0.5em 0.4em;box-sizing: border-box;padding-bottom: 0.4em;background-color: white;}#sk-container-id-4 div.sk-label label {font-family: monospace;font-weight: bold;display: inline-block;line-height: 1.2em;}#sk-container-id-4 div.sk-label-container {text-align: center;}#sk-container-id-4 div.sk-container {/* jupyter's `normalize.less` sets `[hidden] { display: none; }` but bootstrap.min.css set `[hidden] { display: none !important; }` so we also need the `!important` here to be able to override the default hidden behavior on the sphinx rendered scikit-learn.org. See: https://github.com/scikit-learn/scikit-learn/issues/21755 */display: inline-block !important;position: relative;}#sk-container-id-4 div.sk-text-repr-fallback {display: none;}</style><div id=\"sk-container-id-4\" class=\"sk-top-container\"><div class=\"sk-text-repr-fallback\"><pre>LogisticRegression(max_iter=1000, random_state=100)</pre><b>In a Jupyter environment, please rerun this cell to show the HTML representation or trust the notebook. <br />On GitHub, the HTML representation is unable to render, please try loading this page with nbviewer.org.</b></div><div class=\"sk-container\" hidden><div class=\"sk-item\"><div class=\"sk-estimator sk-toggleable\"><input class=\"sk-toggleable__control sk-hidden--visually\" id=\"sk-estimator-id-4\" type=\"checkbox\" checked><label for=\"sk-estimator-id-4\" class=\"sk-toggleable__label sk-toggleable__label-arrow\">LogisticRegression</label><div class=\"sk-toggleable__content\"><pre>LogisticRegression(max_iter=1000, random_state=100)</pre></div></div></div></div></div>"
      ],
      "text/plain": [
       "LogisticRegression(max_iter=1000, random_state=100)"
      ]
     },
     "execution_count": 39,
     "metadata": {},
     "output_type": "execute_result"
    }
   ],
   "source": [
    "#EJERCICIO3\n",
    "from sklearn.model_selection import train_test_split\n",
    "from sklearn.linear_model import LogisticRegression\n",
    "from sklearn.metrics import accuracy_score, f1_score, classification_report, confusion_matrix\n",
    "\n",
    "# dividir en train y test\n",
    "X_train, X_test, y_train, y_test = train_test_split(datos_norm.iloc[:, :-1], datos_norm.iloc[:, -1], test_size=0.2, random_state=100)\n",
    "\n",
    "# entrenar modelo de regresión logística\n",
    "model = LogisticRegression(max_iter=1000, random_state=100)\n",
    "model.fit(X_train, y_train)"
   ]
  },
  {
   "cell_type": "code",
   "execution_count": 40,
   "metadata": {},
   "outputs": [
    {
     "name": "stdout",
     "output_type": "stream",
     "text": [
      "Accuracy: 0.8084\n",
      "F1-score: 0.7934042349584327\n",
      "Classification report:\n",
      "               precision    recall  f1-score   support\n",
      "\n",
      "           0       0.77      0.48      0.59      4351\n",
      "           1       0.84      0.95      0.89     13358\n",
      "           2       0.53      0.43      0.47       430\n",
      "           3       0.70      0.84      0.76       452\n",
      "           4       0.56      0.35      0.43       480\n",
      "           5       0.59      0.61      0.60       479\n",
      "           6       0.82      0.71      0.76       450\n",
      "\n",
      "    accuracy                           0.81     20000\n",
      "   macro avg       0.69      0.62      0.64     20000\n",
      "weighted avg       0.80      0.81      0.79     20000\n",
      "\n",
      "Confusion matrix:\n",
      " [[ 2091  2158     0     0    37     2    63]\n",
      " [  504 12738    11     2    73    21     9]\n",
      " [    0    18   183    90    14   125     0]\n",
      " [    0     0    46   378     0    28     0]\n",
      " [    0   278     6     0   169    27     0]\n",
      " [    0    15    98    71     5   290     0]\n",
      " [  128     0     0     0     3     0   319]]\n"
     ]
    }
   ],
   "source": [
    "# predecir en datos de test y calcular métricas de evaluación\n",
    "y_pred = model.predict(X_test)\n",
    "accuracy = accuracy_score(y_test, y_pred)\n",
    "f1 = f1_score(y_test, y_pred, average='weighted', zero_division=0)\n",
    "report = classification_report(y_test, y_pred, zero_division=0)\n",
    "matrix = confusion_matrix(y_test, y_pred)\n",
    "\n",
    "# imprimir resultados\n",
    "print(\"Accuracy:\", accuracy)\n",
    "print(\"F1-score:\", f1)\n",
    "print(\"Classification report:\\n\", report)\n",
    "print(\"Confusion matrix:\\n\", matrix)"
   ]
  },
  {
   "cell_type": "code",
   "execution_count": 41,
   "metadata": {},
   "outputs": [
    {
     "name": "stdout",
     "output_type": "stream",
     "text": [
      "Accuracy: 0.8084\n",
      "F1-score: 0.7934042349584327\n",
      "Classification report:\n",
      "               precision    recall  f1-score   support\n",
      "\n",
      "           0       0.77      0.48      0.59      4351\n",
      "           1       0.84      0.95      0.89     13358\n",
      "           2       0.53      0.43      0.47       430\n",
      "           3       0.70      0.84      0.76       452\n",
      "           4       0.56      0.35      0.43       480\n",
      "           5       0.59      0.61      0.60       479\n",
      "           6       0.82      0.71      0.76       450\n",
      "\n",
      "    accuracy                           0.81     20000\n",
      "   macro avg       0.69      0.62      0.64     20000\n",
      "weighted avg       0.80      0.81      0.79     20000\n",
      "\n",
      "Confusion matrix:\n",
      " [[ 2091  2158     0     0    37     2    63]\n",
      " [  504 12738    11     2    73    21     9]\n",
      " [    0    18   183    90    14   125     0]\n",
      " [    0     0    46   378     0    28     0]\n",
      " [    0   278     6     0   169    27     0]\n",
      " [    0    15    98    71     5   290     0]\n",
      " [  128     0     0     0     3     0   319]]\n"
     ]
    }
   ],
   "source": [
    "# predecir en datos de test y calcular métricas de evaluación\n",
    "y_pred = model.predict(X_test)\n",
    "accuracy = accuracy_score(y_test, y_pred)\n",
    "f1 = f1_score(y_test, y_pred, average='weighted', zero_division=0)\n",
    "report = classification_report(y_test, y_pred, zero_division=0)\n",
    "matrix = confusion_matrix(y_test, y_pred)\n",
    "\n",
    "# imprimir resultados\n",
    "print(\"Accuracy:\", accuracy)\n",
    "print(\"F1-score:\", f1)\n",
    "print(\"Classification report:\\n\", report)\n",
    "print(\"Confusion matrix:\\n\", matrix)"
   ]
  },
  {
   "cell_type": "code",
   "execution_count": 42,
   "metadata": {},
   "outputs": [
    {
     "data": {
      "text/plain": [
       "<function matplotlib.pyplot.title(label, fontdict=None, loc=None, pad=None, *, y=None, **kwargs)>"
      ]
     },
     "execution_count": 42,
     "metadata": {},
     "output_type": "execute_result"
    },
    {
     "data": {
      "image/png": "[encoded data removed]",
      "text/plain": [
       "<Figure size 640x480 with 1 Axes>"
      ]
     },
     "metadata": {},
     "output_type": "display_data"
    }
   ],
   "source": [
    "#EJERCICIO 4\n",
    "from dask_ml.model_selection import GridSearchCV\n",
    "from sklearn.tree import DecisionTreeClassifier\n",
    "\n",
    "# Crear modelo Decision Tree Classifier\n",
    "dtc = DecisionTreeClassifier(random_state=100)\n",
    "\n",
    "# Definir rango de profundidades\n",
    "depths = range(2, 31)\n",
    "\n",
    "# Definir parámetros de GridSearchCV\n",
    "param_grid = {'max_depth': depths}\n",
    "\n",
    "# Realizar GridSearchCV con Dask\n",
    "grid_search = GridSearchCV(dtc, param_grid, cv=5, scoring='accuracy', n_jobs=-1)\n",
    "grid_search.fit(X_train, y_train)\n",
    "\n",
    "# Obtener los resultados de GridSearchCV\n",
    "results = grid_search.cv_results_\n",
    "\n",
    "# Obtener los valores de los parámetros y el score\n",
    "params = results['params']\n",
    "scores = results['mean_test_score']\n",
    "\n",
    "# Crear gráfica de curva de complejidad\n",
    "plt.plot(depths, scores, '-o')\n",
    "plt.xlabel('Profundidad')\n",
    "plt.ylabel('Accuracy')\n",
    "plt.title"
   ]
  },
  {
   "cell_type": "code",
   "execution_count": 43,
   "metadata": {},
   "outputs": [
    {
     "data": {
      "image/png": "[encoded data removed]",
      "text/plain": [
       "<Figure size 1000x600 with 1 Axes>"
      ]
     },
     "metadata": {},
     "output_type": "display_data"
    }
   ],
   "source": [
    "import numpy as np\n",
    "import matplotlib.pyplot as plt\n",
    "from sklearn.model_selection import learning_curve\n",
    "\n",
    "def plot_learning_curve(estimator, X, y, cv, train_sizes=np.linspace(.1, 1.0, 10)):\n",
    "    \n",
    "    train_sizes, train_scores, test_scores = learning_curve(\n",
    "        estimator, X, y, cv=cv, n_jobs=-1, train_sizes=train_sizes)\n",
    "    \n",
    "    train_scores_mean = np.mean(train_scores, axis=1)\n",
    "    train_scores_std = np.std(train_scores, axis=1)\n",
    "    test_scores_mean = np.mean(test_scores, axis=1)\n",
    "    test_scores_std = np.std(test_scores, axis=1)\n",
    "    \n",
    "    plt.figure(figsize=(10, 6))\n",
    "    plt.title(\"Curva de Aprendizaje\")\n",
    "    plt.xlabel(\"Número de Muestras\")\n",
    "    plt.ylabel(\"Score\")\n",
    "    plt.grid()\n",
    "    \n",
    "    plt.fill_between(train_sizes, train_scores_mean - train_scores_std,\n",
    "                     train_scores_mean + train_scores_std, alpha=0.1,\n",
    "                     color=\"r\")\n",
    "    plt.fill_between(train_sizes, test_scores_mean - test_scores_std,\n",
    "                     test_scores_mean + test_scores_std, alpha=0.1,\n",
    "                     color=\"g\")\n",
    "    plt.plot(train_sizes, train_scores_mean, 'o--', color=\"r\",\n",
    "             label=\"Training score\")\n",
    "    plt.plot(train_sizes, test_scores_mean, 'o-', color=\"g\",\n",
    "             label=\"Cross-validation score\")\n",
    "    \n",
    "    plt.legend(loc=\"best\")\n",
    "    plt.show()\n",
    "    \n",
    "# Generamos la curva de aprendizaje para el modelo Decision Tree Classifier con profundidad óptima\n",
    "from sklearn.tree import DecisionTreeClassifier\n",
    "from sklearn.model_selection import ShuffleSplit\n",
    "\n",
    "cv = ShuffleSplit(n_splits=5, test_size=0.2, random_state=100)\n",
    "dtc = DecisionTreeClassifier(max_depth=12, random_state=100)\n",
    "plot_learning_curve(dtc, X, y, cv)"
   ]
  },
  {
   "cell_type": "code",
   "execution_count": 44,
   "metadata": {},
   "outputs": [],
   "source": [
    "#EJERCICIO5\n",
    "import dask\n",
    "from dask import delayed\n",
    "from dask.distributed import Client\n",
    "\n",
    "# Creamos el cliente Dask\n",
    "client = Client()\n",
    "\n",
    "# Entrenamiento del modelo\n",
    "@delayed\n",
    "def train_rfc(X_train, y_train, random_state, oob_score):\n",
    "    rfc = RandomForestClassifier(random_state=random_state, oob_score=oob_score)\n",
    "    rfc.fit(X_train, y_train)\n",
    "    return rfc\n",
    "\n",
    "rfc = train_rfc(X_train, y_train, random_state=100, oob_score=True)\n",
    "\n",
    "# Evaluación del modelo\n",
    "@delayed\n",
    "def eval_rfc(rfc, X_test, y_test):\n",
    "    y_pred = rfc.predict(X_test)\n",
    "\n",
    "    rfc_accuracy = accuracy_score(y_test, y_pred)\n",
    "    rfc_f1 = f1_score(y_test, y_pred, average='weighted')\n",
    "    rfc_report = classification_report(y_test, y_pred, zero_division=0)\n",
    "    rfc_cm = confusion_matrix(y_test, y_pred)\n",
    "    rfc_oob = rfc.oobscore\n",
    "    tree_depths = [estimator.tree.maxdepth for estimator in rfc.estimators_]\n",
    "    median_tree_depth = np.median(tree_depths)\n",
    "    \n",
    "    return rfc_accuracy, rfc_f1, rfc_report, rfc_cm, rfc_oob, median_tree_depth\n",
    "\n",
    "results = eval_rfc(rfc, X_test, y_test)\n",
    "\n",
    "# Definición de los rangos para cada hiperparámetro\n",
    "n_estimators_range = [200, 300, 400]\n",
    "max_depth_range = [20, 30, None]\n",
    "max_features_range = [\"auto\", \"log2\", None]\n",
    "\n",
    "# Definición de los parámetros a evaluar en GridSearchCV\n",
    "params_grid = {\n",
    "    \"n_estimators\": n_estimators_range,\n",
    "    \"max_depth\": max_depth_range,\n",
    "    \"max_features\": max_features_range\n",
    "}\n",
    "\n",
    "# Entrenamiento del modelo óptimo\n",
    "@delayed\n",
    "def train_rfc_opt(X_train, y_train, params_grid, random_state):\n",
    "    cv = StratifiedKFold(n_splits=5, shuffle=True, random_state=random_state)\n",
    "    rfc_opt = GridSearchCV(RandomForestClassifier(oob_score=True, random_state=random_state), params_grid, scoring='accuracy', cv=cv, n_jobs=-1)\n",
    "\n",
    "    rfc_opt.fit(X_train, y_train)\n",
    "    return rfc_opt\n",
    "\n",
    "rfc_opt = train_rfc_opt(X_train, y_train, params_grid, random_state=100)\n",
    "\n",
    "# Evaluación del modelo óptimo\n",
    "@delayed\n",
    "def eval_rfc_opt(rfc_opt, X_test, y_test):\n",
    "    y_pred = rfc_opt.predict(X_test)\n",
    "\n",
    "    rfc_opt_accuracy = accuracy_score(y_test, y_pred)\n",
    "    rfc_opt_f1 = f1_score(y_test, y_pred, average='weighted')\n",
    "    rfc_opt_report = classification_report(y_test, y_pred, zero_division=0)\n",
    "    rfc_opt_cm = confusion_matrix(y_test, y_pred)\n",
    "    rfc_opt_oob = rfc_opt.best_estimator_.oob_score_\n",
    "    \n",
    "    return rfc_opt_accuracy, rfc_opt_f1, rfc_opt"
   ]
  },
  {
   "cell_type": "code",
   "execution_count": 45,
   "metadata": {},
   "outputs": [
    {
     "ename": "NameError",
     "evalue": "name 'RandomForestClassifier' is not defined",
     "output_type": "error",
     "traceback": [
      "\u001b[1;31m---------------------------------------------------------------------------\u001b[0m",
      "\u001b[1;31mNameError\u001b[0m                                 Traceback (most recent call last)",
      "Cell \u001b[1;32mIn[45], line 24\u001b[0m\n\u001b[0;32m     21\u001b[0m     plt\u001b[39m.\u001b[39mfill_between(train_sizes, test_scores_mean \u001b[39m-\u001b[39m test_scores_std,\n\u001b[0;32m     22\u001b[0m                      test_scores_mean \u001b[39m+\u001b[39m test_scores_std, alpha\u001b[39m=\u001b[39m\u001b[39m0.1\u001b[39m, color\u001b[39m=\u001b[39m\u001b[39m\"\u001b[39m\u001b[39mg\u001b[39m\u001b[39m\"\u001b[39m)\n\u001b[0;32m     23\u001b[0m title \u001b[39m=\u001b[39m \u001b[39m\"\u001b[39m\u001b[39mLearning Curves (Random Forest)\u001b[39m\u001b[39m\"\u001b[39m\n\u001b[1;32m---> 24\u001b[0m plot_learning_curve(RandomForestClassifier(n_estimators\u001b[39m=\u001b[39m\u001b[39m350\u001b[39m, max_depth\u001b[39m=\u001b[39m\u001b[39m22\u001b[39m, max_features\u001b[39m=\u001b[39m\u001b[39m'\u001b[39m\u001b[39mauto\u001b[39m\u001b[39m'\u001b[39m, random_state\u001b[39m=\u001b[39m\u001b[39m100\u001b[39m), title, X_train, y_train, cv\u001b[39m=\u001b[39m\u001b[39m5\u001b[39m, n_jobs\u001b[39m=\u001b[39m\u001b[39m-\u001b[39m\u001b[39m1\u001b[39m)\n\u001b[0;32m     26\u001b[0m plt\u001b[39m.\u001b[39mshow()\n",
      "\u001b[1;31mNameError\u001b[0m: name 'RandomForestClassifier' is not defined"
     ]
    }
   ],
   "source": [
    "from sklearn.model_selection import learning_curve\n",
    "\n",
    "# Definición de la función para obtener la gráfica del Learning Curve\n",
    "def plot_learning_curve(estimator, title, X, y, ylim=None, cv=None, n_jobs=None, train_sizes=np.linspace(0.1, 1.0, 10)):\n",
    "    plt.figure()\n",
    "    plt.title(title)\n",
    "    if ylim is not None:\n",
    "        plt.ylim(*ylim)\n",
    "    plt.xlabel(\"Training examples\")\n",
    "    plt.ylabel(\"Score\")\n",
    "    train_sizes, train_scores, test_scores = learning_curve(\n",
    "        estimator, X, y, cv=cv, n_jobs=n_jobs, train_sizes=train_sizes)\n",
    "    train_scores_mean = np.mean(train_scores, axis=1)\n",
    "    train_scores_std = np.std(train_scores, axis=1)\n",
    "    test_scores_mean = np.mean(test_scores, axis=1)\n",
    "    test_scores_std = np.std(test_scores, axis=1)\n",
    "    plt.grid()\n",
    "    plt.fill_between(train_sizes, train_scores_mean - train_scores_std,\n",
    "                     train_scores_mean + train_scores_std, alpha=0.1,\n",
    "                     color=\"r\")\n",
    "    plt.fill_between(train_sizes, test_scores_mean - test_scores_std,\n",
    "                     test_scores_mean + test_scores_std, alpha=0.1, color=\"g\")\n",
    "title = \"Learning Curves (Random Forest)\"\n",
    "plot_learning_curve(RandomForestClassifier(n_estimators=350, max_depth=22, max_features='auto', random_state=100), title, X_train, y_train, cv=5, n_jobs=-1)\n",
    "\n",
    "plt.show()"
   ]
  },
  {
   "cell_type": "code",
   "execution_count": null,
   "metadata": {},
   "outputs": [],
   "source": [
    "# Importar las librerías necesarias\n",
    "#import xgboost as xgb\n",
    "#from sklearn.metrics import accuracy_score, f1_score, classification_report, confusion_matrix\n",
    "\n",
    "\n",
    "# Crear el modelo\n",
    "#xgb_clf = xgb.XGBClassifier(random_state=100)\n",
    "\n",
    "# Entrenar el modelo\n",
    "#xgb_clf.fit(X_train, y_train)\n",
    "\n",
    "# Realizar las predicciones\n",
    "#y_pred = xgb_clf.predict(X_test)\n",
    "\n",
    "# Calcular las métricas de evaluación\n",
    "#xgb_accuracy = accuracy_score(y_test, y_pred)\n",
    "#xgb_f1 = f1_score(y_test, y_pred, average='weighted')\n",
    "#xgb_report = classification_report(y_test, y_pred, zero_division=0)\n",
    "#xgb_cm = confusion_matrix(y_test, y_pred)\n"
   ]
  },
  {
   "cell_type": "code",
   "execution_count": null,
   "metadata": {},
   "outputs": [],
   "source": [
    "# from sklearn.model_selection import GridSearchCV\n",
    "\n",
    "# # Rangos de los hiperparámetros\n",
    "# n_estimators_range = np.arange(100, 501, 100)\n",
    "# max_depth_range = np.arange(6, 21, 2)\n",
    "# learning_rate_range = [0.01, 0.1, 0.3, 0.5]\n",
    "\n",
    "# # Definición de los parámetros a evaluar en GridSearchCV\n",
    "# params_grid = {\n",
    "#     \"n_estimators\": n_estimators_range,\n",
    "#     \"max_depth\": max_depth_range,\n",
    "#     \"learning_rate\": learning_rate_range\n",
    "# }\n",
    "\n",
    "# # Creación del modelo con GridSearchCV y evaluación\n",
    "# cv = StratifiedKFold(n_splits=5, shuffle=True, random_state=100)\n",
    "# xgb_opt = GridSearchCV(xgb.XGBClassifier(random_state=100), params_grid, scoring='accuracy', cv=cv, n_jobs=-1)\n",
    "# xgb_opt.fit(X_train, y_train)\n",
    "\n",
    "# # Evaluación del modelo óptimo\n",
    "# y_pred = xgb_opt.predict(X_test)\n",
    "\n",
    "# xgb_opt_accuracy = accuracy_score(y_test, y_pred)\n",
    "# xgb_opt_f1 = f1_score(y_test, y_pred, average='weighted')\n",
    "# xgb_opt_report = classification_report(y_test, y_pred, zero_division=0)\n",
    "# xgb_opt_cm = confusion_matrix(y_test, y_pred)"
   ]
  },
  {
   "cell_type": "code",
   "execution_count": null,
   "metadata": {},
   "outputs": [],
   "source": []
  },
  {
   "cell_type": "code",
   "execution_count": 46,
   "metadata": {},
   "outputs": [
    {
     "data": {
      "image/png": "[encoded data removed]",
      "text/plain": [
       "<Figure size 640x480 with 1 Axes>"
      ]
     },
     "metadata": {},
     "output_type": "display_data"
    }
   ],
   "source": [
    "import dask.dataframe as dd\n",
    "from dask_ml.model_selection import train_test_split\n",
    "from sklearn.naive_bayes import GaussianNB, MultinomialNB, ComplementNB, BernoulliNB\n",
    "from sklearn.metrics import accuracy_score, f1_score, classification_report\n",
    "from sklearn.model_selection import learning_curve\n",
    "import matplotlib.pyplot as plt\n",
    "\n",
    "# Paso 5: Entrenar modelos Bayesianos con scikit-learn y calcular métricas\n",
    "# GaussianNB\n",
    "gnb = GaussianNB()\n",
    "gnb.fit(X_train, y_train)\n",
    "y_pred_gnb = gnb.predict(X_test)\n",
    "accuracy_gnb = accuracy_score(y_test, y_pred_gnb)\n",
    "f1_gnb = f1_score(y_test, y_pred_gnb, average='weighted')\n",
    "classification_gnb = classification_report(y_test, y_pred_gnb, zero_division=0)\n",
    "\n",
    "# MultinomialNB\n",
    "mnb = MultinomialNB()\n",
    "mnb.fit(X_train, y_train)\n",
    "y_pred_mnb = mnb.predict(X_test)\n",
    "accuracy_mnb = accuracy_score(y_test, y_pred_mnb)\n",
    "f1_mnb = f1_score(y_test, y_pred_mnb, average='weighted')\n",
    "classification_mnb = classification_report(y_test, y_pred_mnb, zero_division=0)\n",
    "\n",
    "# ComplementNB\n",
    "cnb = ComplementNB()\n",
    "cnb.fit(X_train, y_train)\n",
    "y_pred_cnb = cnb.predict(X_test)\n",
    "accuracy_cnb = accuracy_score(y_test, y_pred_cnb)\n",
    "f1_cnb = f1_score(y_test, y_pred_cnb, average='weighted')\n",
    "classification_cnb = classification_report(y_test, y_pred_cnb, zero_division=0)\n",
    "\n",
    "# BernoulliNB\n",
    "bnb = BernoulliNB()\n",
    "bnb.fit(X_train, y_train)\n",
    "y_pred_bnb = bnb.predict(X_test)\n",
    "accuracy_bnb = accuracy_score(y_test, y_pred_bnb)\n",
    "f1_bnb = f1_score(y_test, y_pred_bnb, average='weighted')\n",
    "classification_bnb = classification_report(y_test, y_pred_bnb, zero_division=0)\n",
    "\n",
    "# Paso 7: Gráfica de Learning Curve para GaussianNB\n",
    "train_sizes, train_scores, test_scores = learning_curve(GaussianNB(), X_train, y_train, random_state=100, cv=5, train_sizes=[1000, 2000, 3000, 4000, 5000])\n",
    "\n",
    "# Calcular las medias y desviaciones estándar de los puntajes de entrenamiento y prueba\n",
    "train_scores_mean = np.mean(train_scores, axis=1)\n",
    "train_scores_std = np.std(train_scores, axis=1)\n",
    "test_scores_mean = np.mean(test_scores, axis=1)\n",
    "test_scores_std = np.std(test_scores, axis=1)\n",
    "\n",
    "# Graficar la curva de aprendizaje\n",
    "plt.figure()\n",
    "plt.title(\"Curva de Aprendizaje - GaussianNB\")\n",
    "plt.xlabel(\"Número de muestras de entrenamiento\")\n",
    "plt.ylabel(\"Precisión\")\n",
    "plt.grid()\n",
    "\n",
    "plt.fill_between(train_sizes, train_scores_mean - train_scores_std,\n",
    "                 train_scores_mean + train_scores_std, alpha=0.1, color=\"r\")\n",
    "plt.fill_between(train_sizes, test_scores_mean - test_scores_std,\n",
    "                 test_scores_mean + test_scores_std, alpha=0.1, color=\"g\")\n",
    "\n",
    "plt.plot(train_sizes, train_scores_mean, 'o-', color=\"r\", label=\"Entrenamiento\")\n",
    "plt.plot(train_sizes, test_scores_mean, 'o-', color=\"g\", label=\"Prueba\")\n",
    "\n",
    "plt.legend(loc=\"best\")\n",
    "plt.show()\n",
    "\n"
   ]
  },
  {
   "cell_type": "code",
   "execution_count": 47,
   "metadata": {},
   "outputs": [
    {
     "name": "stdout",
     "output_type": "stream",
     "text": [
      "GaussianNB\n",
      "Accuracy: 0.5429\n",
      "F1-score: 0.5338\n",
      "Classification Report:\n",
      "               precision    recall  f1-score   support\n",
      "\n",
      "           0       0.94      0.02      0.04      4351\n",
      "           1       0.71      0.71      0.71     13358\n",
      "           2       0.31      0.44      0.36       430\n",
      "           3       0.67      0.80      0.73       452\n",
      "           4       0.04      0.37      0.08       480\n",
      "           5       0.30      0.61      0.40       479\n",
      "           6       0.70      0.46      0.55       450\n",
      "\n",
      "    accuracy                           0.54     20000\n",
      "   macro avg       0.53      0.49      0.41     20000\n",
      "weighted avg       0.73      0.54      0.53     20000\n",
      "\n",
      "Confusion Matrix:\n",
      " [[  85 3673   50    0  327  130   86]\n",
      " [   2 9550   68    0 3620  114    4]\n",
      " [   0    0  189   95    0  146    0]\n",
      " [   0    0   47  360    0   45    0]\n",
      " [   0   73   85    0  176  146    0]\n",
      " [   0    0  104   83    0  292    0]\n",
      " [   3   74   70    0    6   91  206]]\n",
      "MultinomialNB\n",
      "Accuracy: 0.6747\n",
      "F1-score: 0.5493\n",
      "Classification Report:\n",
      "               precision    recall  f1-score   support\n",
      "\n",
      "           0       0.83      0.01      0.02      4351\n",
      "           1       0.67      1.00      0.80     13358\n",
      "           2       0.00      0.00      0.00       430\n",
      "           3       0.00      0.00      0.00       452\n",
      "           4       0.00      0.00      0.00       480\n",
      "           5       0.00      0.00      0.00       479\n",
      "           6       0.84      0.20      0.33       450\n",
      "\n",
      "    accuracy                           0.67     20000\n",
      "   macro avg       0.34      0.17      0.16     20000\n",
      "weighted avg       0.65      0.67      0.55     20000\n",
      "\n",
      "Confusion Matrix:\n",
      " [[   45  4290     0     0     0     0    16]\n",
      " [    0 13357     0     0     0     0     1]\n",
      " [    0   430     0     0     0     0     0]\n",
      " [    0   452     0     0     0     0     0]\n",
      " [    0   480     0     0     0     0     0]\n",
      " [    0   479     0     0     0     0     0]\n",
      " [    9   349     0     0     0     0    92]]\n",
      "ComplementNB\n",
      "Accuracy: 0.6922\n",
      "F1-score: 0.6259\n",
      "Classification Report:\n",
      "               precision    recall  f1-score   support\n",
      "\n",
      "           0       0.56      0.07      0.13      4351\n",
      "           1       0.77      0.96      0.85     13358\n",
      "           2       0.20      0.85      0.32       430\n",
      "           3       0.46      0.49      0.47       452\n",
      "           4       0.61      0.09      0.16       480\n",
      "           5       0.02      0.00      0.01       479\n",
      "           6       0.63      0.24      0.35       450\n",
      "\n",
      "    accuracy                           0.69     20000\n",
      "   macro avg       0.46      0.39      0.33     20000\n",
      "weighted avg       0.68      0.69      0.63     20000\n",
      "\n",
      "Confusion Matrix:\n",
      " [[  326  3670   229    19     8    36    63]\n",
      " [  222 12776   266    31    16    45     2]\n",
      " [    0     0   365    65     0     0     0]\n",
      " [    0     0   229   222     0     1     0]\n",
      " [    0   187   214    28    43     8     0]\n",
      " [    0     0   367   110     0     2     0]\n",
      " [   36    63   200    12     3    26   110]]\n",
      "BernoulliNB\n",
      "Accuracy: 0.6953\n",
      "F1-score: 0.5998\n",
      "Classification Report:\n",
      "               precision    recall  f1-score   support\n",
      "\n",
      "           0       0.73      0.01      0.03      4351\n",
      "           1       0.75      0.99      0.85     13358\n",
      "           2       0.21      0.96      0.35       430\n",
      "           3       0.66      0.42      0.51       452\n",
      "           4       0.00      0.00      0.00       480\n",
      "           5       0.00      0.00      0.00       479\n",
      "           6       0.82      0.18      0.30       450\n",
      "\n",
      "    accuracy                           0.70     20000\n",
      "   macro avg       0.45      0.37      0.29     20000\n",
      "weighted avg       0.70      0.70      0.60     20000\n",
      "\n",
      "Confusion Matrix:\n",
      " [[   59  4089   189     9     0     0     5]\n",
      " [    0 13164   187     4     0     0     3]\n",
      " [    0     0   411    16     0     0     3]\n",
      " [    0     0   261   190     0     1     0]\n",
      " [    0   249   209    20     0     0     2]\n",
      " [    0     0   438    36     0     0     5]\n",
      " [   22    86   248    12     0     0    82]]\n"
     ]
    }
   ],
   "source": [
    "from sklearn.naive_bayes import GaussianNB, MultinomialNB, ComplementNB, BernoulliNB\n",
    "from sklearn.metrics import accuracy_score, f1_score, classification_report, confusion_matrix\n",
    "\n",
    "models = [GaussianNB(), MultinomialNB(), ComplementNB(), BernoulliNB()]\n",
    "\n",
    "for model in models:\n",
    "    model.fit(X_train, y_train)\n",
    "    y_pred = model.predict(X_test)\n",
    "    \n",
    "    acc = accuracy_score(y_test, y_pred)\n",
    "    f1 = f1_score(y_test, y_pred, average='weighted')\n",
    "    class_report = classification_report(y_test, y_pred, zero_division=0)\n",
    "    conf_matrix = confusion_matrix(y_test, y_pred)\n",
    "    \n",
    "    print(type(model).__name__)\n",
    "    print(\"Accuracy: {:.4f}\".format(acc))\n",
    "    print(\"F1-score: {:.4f}\".format(f1))\n",
    "    print(\"Classification Report:\\n\", class_report)\n",
    "    print(\"Confusion Matrix:\\n\", conf_matrix)"
   ]
  },
  {
   "cell_type": "code",
   "execution_count": 49,
   "metadata": {},
   "outputs": [
    {
     "name": "stderr",
     "output_type": "stream",
     "text": [
      "C:\\Users\\smite\\AppData\\Local\\Packages\\PythonSoftwareFoundation.Python.3.10_qbz5n2kfra8p0\\LocalCache\\local-packages\\Python310\\site-packages\\sklearn\\base.py:402: UserWarning: X has feature names, but KNeighborsClassifier was fitted without feature names\n",
      "  warnings.warn(\n",
      "C:\\Users\\smite\\AppData\\Local\\Packages\\PythonSoftwareFoundation.Python.3.10_qbz5n2kfra8p0\\LocalCache\\local-packages\\Python310\\site-packages\\sklearn\\base.py:402: UserWarning: X has feature names, but KNeighborsClassifier was fitted without feature names\n",
      "  warnings.warn(\n",
      "C:\\Users\\smite\\AppData\\Local\\Packages\\PythonSoftwareFoundation.Python.3.10_qbz5n2kfra8p0\\LocalCache\\local-packages\\Python310\\site-packages\\sklearn\\base.py:402: UserWarning: X has feature names, but KNeighborsClassifier was fitted without feature names\n",
      "  warnings.warn(\n"
     ]
    },
    {
     "name": "stdout",
     "output_type": "stream",
     "text": [
      "K-Nearest Neighbors con configuración por defecto:\n",
      "Accuracy: 0.9133\n",
      "F1-score (weighted): 0.9128085409887268\n",
      "Classification report:\n",
      "              precision    recall  f1-score   support\n",
      "\n",
      "           0       0.87      0.84      0.85      4351\n",
      "           1       0.95      0.95      0.95     13358\n",
      "           2       0.70      0.67      0.69       430\n",
      "           3       0.84      0.94      0.89       452\n",
      "           4       0.80      0.84      0.82       480\n",
      "           5       0.75      0.71      0.73       479\n",
      "           6       0.89      0.92      0.91       450\n",
      "\n",
      "    accuracy                           0.91     20000\n",
      "   macro avg       0.83      0.84      0.83     20000\n",
      "weighted avg       0.91      0.91      0.91     20000\n",
      "\n",
      "----------------------------------------------------\n",
      "K-Nearest Neighbors con 1 vecino:\n",
      "Accuracy: 0.9205\n",
      "F1-score (weighted): 0.9204011771681843\n",
      "Classification report:\n",
      "              precision    recall  f1-score   support\n",
      "\n",
      "           0       0.87      0.86      0.87      4351\n",
      "           1       0.95      0.95      0.95     13358\n",
      "           2       0.76      0.73      0.74       430\n",
      "           3       0.85      0.92      0.89       452\n",
      "           4       0.81      0.86      0.83       480\n",
      "           5       0.77      0.75      0.76       479\n",
      "           6       0.89      0.94      0.91       450\n",
      "\n",
      "    accuracy                           0.92     20000\n",
      "   macro avg       0.84      0.86      0.85     20000\n",
      "weighted avg       0.92      0.92      0.92     20000\n",
      "\n",
      "----------------------------------------------------\n",
      "K-Nearest Neighbors con 100 vecinos:\n",
      "Accuracy: 0.8489\n"
     ]
    }
   ],
   "source": [
    "#EJERCICIO 8import dask.array as da\n",
    "import numpy as np\n",
    "import matplotlib.pyplot as plt\n",
    "from sklearn.neighbors import KNeighborsClassifier\n",
    "from sklearn.metrics import accuracy_score, f1_score, classification_report\n",
    "from sklearn.model_selection import learning_curve\n",
    "\n",
    "def train_knn_model(n_neighbors):\n",
    "    knn = KNeighborsClassifier(n_neighbors=n_neighbors, n_jobs=-1)\n",
    "    knn.fit(X_train_dask, y_train_dask)\n",
    "    y_pred = knn.predict(X_test)\n",
    "    acc = accuracy_score(y_test, y_pred)\n",
    "    f1 = f1_score(y_test, y_pred, average='weighted')\n",
    "    clf_report = classification_report(y_test, y_pred, zero_division=0)\n",
    "    return acc, f1, clf_report\n",
    "\n",
    "def plot_learning_curve_knn(model, X, y, n_neighbors, cv):\n",
    "    train_sizes, train_scores, test_scores = learning_curve(model, X, y, cv=cv, n_jobs=-1,\n",
    "                                                            train_sizes=np.linspace(0.1, 1.0, 5),\n",
    "                                                            scoring='f1_weighted')\n",
    "    train_mean = np.mean(train_scores, axis=1)\n",
    "    test_mean = np.mean(test_scores, axis=1)\n",
    "    train_std = np.std(train_scores, axis=1)\n",
    "    test_std = np.std(test_scores, axis=1)\n",
    "    \n",
    "    plt.figure(figsize=(8, 6))\n",
    "    plt.title(f\"Learning Curve (KNN with n_neighbors={n_neighbors})\")\n",
    "    plt.xlabel(\"Training examples\")\n",
    "    plt.ylabel(\"Score\")\n",
    "    plt.grid()\n",
    "    plt.fill_between(train_sizes, train_mean - train_std, train_mean + train_std, alpha=0.1, color=\"r\")\n",
    "    plt.fill_between(train_sizes, test_mean - test_std, test_mean + test_std, alpha=0.1, color=\"g\")\n",
    "    plt.plot(train_sizes, train_mean, 'o-', color=\"r\", label=\"Training score\")\n",
    "    plt.plot(train_sizes, test_mean, 'o-', color=\"g\", label=\"Cross-validation score\")\n",
    "    plt.legend(loc=\"best\")\n",
    "    plt.show()\n",
    "\n",
    "# Convertir datos a dask.array\n",
    "X_train_dask = da.from_array(X_train.values, chunks=X_train.values.shape)\n",
    "y_train_dask = da.from_array(y_train.values, chunks=y_train.values.shape)\n",
    "\n",
    "# K-Nearest Neighbors con configuración por defecto\n",
    "acc_default, f1_default, clf_report_default = train_knn_model(5)\n",
    "\n",
    "# K-Nearest Neighbors con 1 vecino\n",
    "acc_1, f1_1, clf_report_1 = train_knn_model(1)\n",
    "\n",
    "# K-Nearest Neighbors con 100 vecinos\n",
    "acc_100, f1_100, clf_report_100 = train_knn_model(100)\n",
    "\n",
    "# Imprimir métricas\n",
    "print(\"K-Nearest Neighbors con configuración por defecto:\")\n",
    "print(f\"Accuracy: {acc_default}\")\n",
    "print(f\"F1-score (weighted): {f1_default}\")\n",
    "print(\"Classification report:\")\n",
    "print(clf_report_default)\n",
    "print(\"----------------------------------------------------\")\n",
    "print(\"K-Nearest Neighbors con 1 vecino:\")\n",
    "print(f\"Accuracy: {acc_1}\")\n",
    "print(f\"F1-score (weighted): {f1_1}\")\n",
    "print(\"Classification report:\")\n",
    "print(clf_report_1)\n",
    "print(\"----------------------------------------------------\")\n",
    "print(\"K-Nearest Neighbors con 100 vecinos:\")\n",
    "print(f\"Accuracy: {acc_100}\")\n",
    "\n",
    "\n"
   ]
  },
  {
   "cell_type": "code",
   "execution_count": 50,
   "metadata": {},
   "outputs": [
    {
     "name": "stderr",
     "output_type": "stream",
     "text": [
      "C:\\Users\\smite\\AppData\\Local\\Packages\\PythonSoftwareFoundation.Python.3.10_qbz5n2kfra8p0\\LocalCache\\local-packages\\Python310\\site-packages\\distributed\\node.py:182: UserWarning: Port 8787 is already in use.\n",
      "Perhaps you already have a cluster running?\n",
      "Hosting the HTTP server on port 56754 instead\n",
      "  warnings.warn(\n"
     ]
    }
   ],
   "source": [
    "#EJERCICIO 9\n",
    "import dask_ml.model_selection as dcv\n",
    "from dask.distributed import Client\n",
    "from sklearn.neural_network import MLPClassifier\n",
    "\n",
    "\n",
    "# Crear cliente Dask para el cálculo distribuido\n",
    "client = Client()\n",
    "\n",
    "# MLPClassifier con configuración por defecto\n",
    "model_mlp1 = MLPClassifier(random_state=100)\n",
    "\n",
    "# Entrenamiento y evaluación paralelizados utilizando Dask\n",
    "with client:\n",
    "    model_mlp1 = dcv.GridSearchCV(model_mlp1, param_grid={}, cv=5, scoring='f1_weighted')\n",
    "    model_mlp1.fit(X_train, y_train)\n",
    "\n",
    "# Evaluar modelo\n",
    "y_pred = model_mlp1.predict(X_test)\n",
    "acc = accuracy_score(y_test, y_pred)\n",
    "f1 = f1_score(y_test, y_pred, average='weighted')\n",
    "clf_report = classification_report(y_test, y_pred, zero_division=0)\n",
    "\n",
    "print(\"MLPClassifier con configuración por defecto:\")\n",
    "print(f\"Accuracy: {acc}\")\n",
    "print(f\"F1-score (weighted): {f1}\")\n",
    "print(\"Classification report:\")\n",
    "print(clf_report)\n",
    "\n",
    "# MLPClassifier con hiperparámetros definidos\n",
    "model_mlp2 = MLPClassifier(random_state=100, hidden_layer_sizes=(100, 200, 100), max_iter=10000, alpha=1e-5, tol=1e-5)\n",
    "\n",
    "# Entrenamiento y evaluación paralelizados utilizando Dask\n",
    "with client:\n",
    "    model_mlp2 = dcv.GridSearchCV(model_mlp2, param_grid={}, cv=5, scoring='f1_weighted')\n",
    "    model_mlp2.fit(X_train, y_train)\n",
    "\n",
    "# Evaluar modelo\n",
    "y_pred = model_mlp2.predict(X_test)\n",
    "acc = accuracy_score(y_test, y_pred)\n",
    "f1 = f1_score(y_test, y_pred, average='weighted')\n",
    "clf_report = classification_report(y_test, y_pred, zero_division=0)\n",
    "\n",
    "print(\"\\nMLPClassifier con hiperparámetros definidos:\")\n",
    "print(f\"Accuracy: {acc}\")\n",
    "print(f\"F1-score (weighted): {f1}\")\n",
    "print(\"Classification report:\")\n",
    "print(clf_report)\n",
    "\n"
   ]
  }
 ],
 "metadata": {
  "kernelspec": {
   "display_name": "Python 3",
   "language": "python",
   "name": "python3"
  },
  "language_info": {
   "codemirror_mode": {
    "name": "ipython",
    "version": 3
   },
   "file_extension": ".py",
   "mimetype": "text/x-python",
   "name": "python",
   "nbconvert_exporter": "python",
   "pygments_lexer": "ipython3",
   "version": "3.10.11"
  },
  "orig_nbformat": 4
 },
 "nbformat": 4,
 "nbformat_minor": 2
}
